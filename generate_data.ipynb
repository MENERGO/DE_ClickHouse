{
 "cells": [
  {
   "cell_type": "code",
   "execution_count": 19,
   "metadata": {
    "collapsed": true
   },
   "outputs": [],
   "source": [
    "import json\n",
    "import pandas as pd\n",
    "import sqlite3\n",
    "import time\n",
    "\n",
    "from random import randint\n",
    "\n",
    "cnx = sqlite3.connect(r'data/db.sqlite')\n",
    "persons = pd.read_sql_query(\"SELECT id FROM person\", cnx)\n",
    "films = pd.read_sql_query(\"SELECT id FROM film_work\", cnx)"
   ]
  },
  {
   "cell_type": "code",
   "execution_count": 3,
   "outputs": [
    {
     "data": {
      "text/plain": "                                       id\n0    00af52ec-9345-4d66-adbe-50eb917f463a\n1    00e2e781-7af9-4f82-b4e9-14a488a3e184\n2    01ab9e34-4ceb-4337-bb69-68a1b0de46b2\n3    01cd80e2-5db8-4914-9a80-74f15a3a1a24\n4    01f81c66-d968-4375-bbb0-65103aa214d1\n..                                    ...\n994  ff081f3c-3adf-4f98-be38-09661ec9c331\n995  ff750819-6004-426b-ae66-19a3ba15adcc\n996  ff7a721f-e650-4cb7-aec2-58fce57fa7d2\n997  ffaec4b6-477d-4247-add0-dbe2ad91b3dd\n998  ffc3df9f-a17e-4bae-b0b6-c9c4da290fdd\n\n[999 rows x 1 columns]",
      "text/html": "<div>\n<style scoped>\n    .dataframe tbody tr th:only-of-type {\n        vertical-align: middle;\n    }\n\n    .dataframe tbody tr th {\n        vertical-align: top;\n    }\n\n    .dataframe thead th {\n        text-align: right;\n    }\n</style>\n<table border=\"1\" class=\"dataframe\">\n  <thead>\n    <tr style=\"text-align: right;\">\n      <th></th>\n      <th>id</th>\n    </tr>\n  </thead>\n  <tbody>\n    <tr>\n      <th>0</th>\n      <td>00af52ec-9345-4d66-adbe-50eb917f463a</td>\n    </tr>\n    <tr>\n      <th>1</th>\n      <td>00e2e781-7af9-4f82-b4e9-14a488a3e184</td>\n    </tr>\n    <tr>\n      <th>2</th>\n      <td>01ab9e34-4ceb-4337-bb69-68a1b0de46b2</td>\n    </tr>\n    <tr>\n      <th>3</th>\n      <td>01cd80e2-5db8-4914-9a80-74f15a3a1a24</td>\n    </tr>\n    <tr>\n      <th>4</th>\n      <td>01f81c66-d968-4375-bbb0-65103aa214d1</td>\n    </tr>\n    <tr>\n      <th>...</th>\n      <td>...</td>\n    </tr>\n    <tr>\n      <th>994</th>\n      <td>ff081f3c-3adf-4f98-be38-09661ec9c331</td>\n    </tr>\n    <tr>\n      <th>995</th>\n      <td>ff750819-6004-426b-ae66-19a3ba15adcc</td>\n    </tr>\n    <tr>\n      <th>996</th>\n      <td>ff7a721f-e650-4cb7-aec2-58fce57fa7d2</td>\n    </tr>\n    <tr>\n      <th>997</th>\n      <td>ffaec4b6-477d-4247-add0-dbe2ad91b3dd</td>\n    </tr>\n    <tr>\n      <th>998</th>\n      <td>ffc3df9f-a17e-4bae-b0b6-c9c4da290fdd</td>\n    </tr>\n  </tbody>\n</table>\n<p>999 rows × 1 columns</p>\n</div>"
     },
     "execution_count": 3,
     "metadata": {},
     "output_type": "execute_result"
    }
   ],
   "source": [
    "films"
   ],
   "metadata": {
    "collapsed": false,
    "pycharm": {
     "name": "#%%\n"
    }
   }
  },
  {
   "cell_type": "code",
   "execution_count": 17,
   "outputs": [
    {
     "name": "stdout",
     "output_type": "stream",
     "text": [
      "Готово. Сделано 4161834 записей.\n",
      "--- Выполнение скрипта 518.9780321121216 секунд ---\n"
     ]
    }
   ],
   "source": [
    "start_time = time.time()\n",
    "k = 0\n",
    "with open(\"data/likes.csv\", 'w') as outfile:\n",
    "    for _, user in persons.iterrows():\n",
    "        for _, film in films.iterrows():\n",
    "            ts = randint(0, 9)\n",
    "            line = {\n",
    "                \"movie_id\": film[\"id\"],\n",
    "                \"user_id\": user[\"id\"],\n",
    "                \"like\": ts\n",
    "            }\n",
    "            outfile.write(str(line)+\"\\n\")\n",
    "            k += 1\n",
    "print(f\"Готово. Сделано {k} записей.\")\n",
    "print(\"--- Выполнение скрипта %s секунд ---\" % (time.time() - start_time))"
   ],
   "metadata": {
    "collapsed": false,
    "pycharm": {
     "name": "#%%\n"
    }
   }
  },
  {
   "cell_type": "code",
   "execution_count": 18,
   "outputs": [
    {
     "name": "stdout",
     "output_type": "stream",
     "text": [
      "Готово. Сделано 2079804 записей.\n",
      "--- Выполнение скрипта 505.4561140537262 секунд ---\n"
     ]
    }
   ],
   "source": [
    "start_time = time.time()\n",
    "k = 0\n",
    "with open(\"data/bookmarks.csv\", 'w') as outfile:\n",
    "    for _, user in persons.iterrows():\n",
    "        for _, film in films.iterrows():\n",
    "            line = {\n",
    "                \"user_id\": user[\"id\"],\n",
    "                \"movie_id\": film[\"id\"],\n",
    "            }\n",
    "            existence_bookmark = randint(0, 1)\n",
    "            if existence_bookmark:\n",
    "                outfile.write(str(line)+\"\\n\")\n",
    "                k += 1\n",
    "print(f\"Готово. Сделано {k} записей.\")\n",
    "print(\"--- Выполнение скрипта %s секунд ---\" % (time.time() - start_time))"
   ],
   "metadata": {
    "collapsed": false,
    "pycharm": {
     "name": "#%%\n"
    }
   }
  },
  {
   "cell_type": "code",
   "execution_count": 20,
   "outputs": [],
   "source": [
    "with open(\"data/likes.csv\", 'r') as file:\n",
    "    likes = file.read().splitlines()"
   ],
   "metadata": {
    "collapsed": false,
    "pycharm": {
     "name": "#%%\n"
    }
   }
  },
  {
   "cell_type": "code",
   "execution_count": 21,
   "outputs": [
    {
     "data": {
      "text/plain": "\"{'movie_id': '00af52ec-9345-4d66-adbe-50eb917f463a', 'user_id': '0031feab-8f53-412a-8f53-47098a60ac73', 'like': 0}\""
     },
     "execution_count": 21,
     "metadata": {},
     "output_type": "execute_result"
    }
   ],
   "source": [
    "likes[0]"
   ],
   "metadata": {
    "collapsed": false,
    "pycharm": {
     "name": "#%%\n"
    }
   }
  },
  {
   "cell_type": "code",
   "execution_count": 32,
   "outputs": [
    {
     "name": "stdout",
     "output_type": "stream",
     "text": [
      "словарь создан\n"
     ]
    }
   ],
   "source": [
    "# dict_likes = {0: [], 1: [], 2: [], 3: [], 4:[], 5: [], 6: [], 7: [], 8: [], 9: []}\n",
    "dict_likes = {}\n",
    "for i in range(len(likes)):\n",
    "    like = json.loads(likes[i].replace('\"', \"'\").replace(\"'\", '\"'))\n",
    "    # dict_likes[like['like']].append(f\"{like['movie_id']}::{like['user_id']}\")\n",
    "    dict_likes[f\"{like['movie_id']}::{like['user_id']}\"] = like['like']\n",
    "    # print(like, like['like'], like['movie_id'], like['user_id'])\n",
    "    # print(dict_likes)\n",
    "print('словарь создан')"
   ],
   "metadata": {
    "collapsed": false,
    "pycharm": {
     "name": "#%%\n"
    }
   }
  },
  {
   "cell_type": "code",
   "execution_count": 35,
   "outputs": [
    {
     "name": "stdout",
     "output_type": "stream",
     "text": [
      "Готово. Сделано 4161834 записей.\n",
      "--- Выполнение скрипта 639.8422989845276 секунд ---\n"
     ]
    }
   ],
   "source": [
    "start_time = time.time()\n",
    "review = {\n",
    "    0: \"Strange movie\",\n",
    "    1: \"Good movie\",\n",
    "    2: \"Scary movie\",\n",
    "    3: \"The best movie\",\n",
    "}\n",
    "k = 0\n",
    "rating = 0\n",
    "with open(\"data/reviews.csv\", 'w') as outfile:\n",
    "    for _, user in persons.iterrows():\n",
    "        for _, film in films.iterrows():\n",
    "            ts = randint(0, 9)\n",
    "            rs = randint(0, 3)\n",
    "            rating = dict_likes[f\"{film['id']}::{user['id']}\"]\n",
    "            line = {\n",
    "                \"movie_id\": film[\"id\"],\n",
    "                \"user_id\": user[\"id\"],\n",
    "                \"like\": ts,\n",
    "                \"rating_movie\": rating,\n",
    "                \"text\": review[rs]\n",
    "            }\n",
    "            outfile.write(str(line)+\"\\n\")\n",
    "            k += 1\n",
    "print(f\"Готово. Сделано {k} записей.\")\n",
    "print(\"--- Выполнение скрипта %s секунд ---\" % (time.time() - start_time))\n"
   ],
   "metadata": {
    "collapsed": false,
    "pycharm": {
     "name": "#%%\n"
    }
   }
  }
 ],
 "metadata": {
  "kernelspec": {
   "display_name": "Python 3",
   "language": "python",
   "name": "python3"
  },
  "language_info": {
   "codemirror_mode": {
    "name": "ipython",
    "version": 2
   },
   "file_extension": ".py",
   "mimetype": "text/x-python",
   "name": "python",
   "nbconvert_exporter": "python",
   "pygments_lexer": "ipython2",
   "version": "2.7.6"
  }
 },
 "nbformat": 4,
 "nbformat_minor": 0
}